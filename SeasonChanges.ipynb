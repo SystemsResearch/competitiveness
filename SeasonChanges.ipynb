{
 "cells": [
  {
   "cell_type": "markdown",
   "id": "e95cdc6b-8449-4e0f-813e-ba4f79433aef",
   "metadata": {},
   "source": [
    "# Season-to-season changes\n",
    "\n",
    "Exploring how many regular-season games have a different outcomes from one season to the next.\n",
    "\n",
    "## Data organisation\n",
    "\n",
    "As usual, we have one folder per competition, within which we have one folder per season. We will have two variables `comp` and `season` to specify which files we want to use.\n",
    "\n",
    "Here, `season` will refer to the 'current' season, and we will always compare that season with the preceeding one.\n",
    "\n",
    "We will analyse several instances, so we have two lists `comps` and `seasons`, and `comp` and `season` will iterate over these two lists."
   ]
  },
  {
   "cell_type": "code",
   "execution_count": 27,
   "id": "f7b9444b-af7f-4603-a5f7-7f6ca9e49dfe",
   "metadata": {},
   "outputs": [
    {
     "name": "stdout",
     "output_type": "stream",
     "text": [
      "\u001b[34mAutumnNationsCup\u001b[m\u001b[m        \u001b[34mNPC\u001b[m\u001b[m                     \u001b[34mSuperRugbyAU\u001b[m\u001b[m\n",
      "\u001b[34mChallengeCup\u001b[m\u001b[m            \u001b[34mPacificNationsCup\u001b[m\u001b[m       \u001b[34mSuperRugbyAotearoa\u001b[m\u001b[m\n",
      "\u001b[34mChampionsCup\u001b[m\u001b[m            \u001b[34mPremiership\u001b[m\u001b[m             \u001b[34mSuperRugbyPacific\u001b[m\u001b[m\n",
      "\u001b[34mCurrieCup\u001b[m\u001b[m               \u001b[34mProD2\u001b[m\u001b[m                   \u001b[34mSuperRugbyTranstasman\u001b[m\u001b[m\n",
      "\u001b[34mInternational\u001b[m\u001b[m           \u001b[34mRWC\u001b[m\u001b[m                     \u001b[34mTRC\u001b[m\u001b[m\n",
      "\u001b[34mJapanRugbyLeagueOneD1\u001b[m\u001b[m   \u001b[34mRainbowCup\u001b[m\u001b[m              \u001b[34mTop14\u001b[m\u001b[m\n",
      "\u001b[34mJapanTopLeague\u001b[m\u001b[m          \u001b[34mRainbowCupSA\u001b[m\u001b[m            \u001b[34mURC\u001b[m\u001b[m\n",
      "\u001b[34mLions\u001b[m\u001b[m                   \u001b[34mRugbyEuropeChampionship\u001b[m\u001b[m\n",
      "\u001b[34mMLR\u001b[m\u001b[m                     \u001b[34mSixNations\u001b[m\u001b[m\n"
     ]
    }
   ],
   "source": [
    "!ls ../opta_data/Mens/"
   ]
  },
  {
   "cell_type": "code",
   "execution_count": 40,
   "id": "333c318a-4013-441a-802c-0d68198f7e0f",
   "metadata": {},
   "outputs": [],
   "source": [
    "comps = [\"SuperRugbyPacific\", \"Top14\", \"URC\"]\n",
    "seasons = [23, 24, 25]"
   ]
  },
  {
   "cell_type": "markdown",
   "id": "ae0757eb-b6c4-4b89-9615-397ef78acf97",
   "metadata": {},
   "source": [
    "## Support functions"
   ]
  },
  {
   "cell_type": "code",
   "execution_count": 43,
   "id": "ca9a787f-9df6-43ec-801d-9bcc86276374",
   "metadata": {},
   "outputs": [],
   "source": [
    "def process_one_game(filename):\n",
    "    with open(filename,'r') as inFile:\n",
    "        lines = inFile.readlines()\n",
    "\n",
    "    # Read the header line\n",
    "    header = lines[0].strip().split(',')\n",
    "    \n",
    "    # Determine the index for all the columns we want to use\n",
    "    homeTeamName = header.index('homeTeamName')\n",
    "    awayTeamName = header.index('awayTeamName')\n",
    "    isHome = header.index('isHome')\n",
    "    result = header.index('result')\n",
    "\n",
    "    # Process one line at a time until we find a line about the home team\n",
    "    for i in range(1,len(lines)):\n",
    "        temp_array = lines[i].strip().split(',')\n",
    "        is_home = temp_array[isHome]\n",
    "        if is_home!=\"Y\":\n",
    "            continue\n",
    "\n",
    "        home_team = temp_array[homeTeamName]\n",
    "        away_team = temp_array[awayTeamName]\n",
    "        game_result = temp_array[result]\n",
    "        break\n",
    "\n",
    "    return home_team, away_team, game_result\n",
    "    "
   ]
  },
  {
   "cell_type": "markdown",
   "id": "c87dcc5d-64c3-4b26-8cc6-8e09cb0117e5",
   "metadata": {},
   "source": [
    "## Process all seasons"
   ]
  },
  {
   "cell_type": "code",
   "execution_count": 46,
   "id": "07610ef3-8a91-4ad0-aea2-e628c7b111d2",
   "metadata": {},
   "outputs": [
    {
     "name": "stdout",
     "output_type": "stream",
     "text": [
      "Extracting the 2022-23 season for SuperRugbyPacific\n",
      "84 games to process.\n",
      "Extracting the 2021-22 season for SuperRugbyPacific\n",
      "84 games to process.\n",
      "Extracting the 2023-24 season for SuperRugbyPacific\n",
      "84 games to process.\n",
      "Extracting the 2022-23 season for SuperRugbyPacific\n",
      "84 games to process.\n",
      "Extracting the 2024-25 season for SuperRugbyPacific\n",
      "25 games to process.\n",
      "Extracting the 2023-24 season for SuperRugbyPacific\n",
      "84 games to process.\n",
      "Extracting the 2022-23 season for Top14\n",
      "182 games to process.\n",
      "Extracting the 2021-22 season for Top14\n",
      "182 games to process.\n",
      "Extracting the 2023-24 season for Top14\n",
      "182 games to process.\n",
      "Extracting the 2022-23 season for Top14\n",
      "182 games to process.\n",
      "Extracting the 2024-25 season for Top14\n",
      "105 games to process.\n",
      "Extracting the 2023-24 season for Top14\n",
      "182 games to process.\n",
      "Extracting the 2022-23 season for URC\n",
      "144 games to process.\n",
      "Extracting the 2021-22 season for URC\n",
      "144 games to process.\n",
      "Extracting the 2023-24 season for URC\n",
      "144 games to process.\n",
      "Extracting the 2022-23 season for URC\n",
      "144 games to process.\n",
      "Extracting the 2024-25 season for URC\n",
      "77 games to process.\n",
      "Extracting the 2023-24 season for URC\n",
      "144 games to process.\n"
     ]
    }
   ],
   "source": [
    "import glob\n",
    "\n",
    "def check_duplicates(my_list):\n",
    "    seen = set()\n",
    "    for x in my_list:\n",
    "        if x in seen:\n",
    "            print(f\"Game {x} has been seen before\")\n",
    "        seen.add(x)\n",
    "\n",
    "round_limits = {\"SuperRugbyPacific\": 15,\n",
    "                \"Top14\": 26,\n",
    "                \"URC\": 18\n",
    "               }\n",
    "\n",
    "results = dict()\n",
    "\n",
    "for comp in comps:\n",
    "    for s in seasons:\n",
    "        for offset in [0,1]:\n",
    "            season = f\"20{s-1-offset}-{s-offset}\"\n",
    "            print(f\"Extracting the {season} season for {comp}\")\n",
    "    \n",
    "            if comp not in results:\n",
    "                results[comp] = dict()\n",
    "            \n",
    "            list_games = []\n",
    "            for rd in range(0,round_limits[comp]):\n",
    "                round_games = glob.glob(f\"../opta_data/Mens/{comp}/{season}/Round_{rd+1}/*.csv\",recursive=True)\n",
    "                list_games += round_games\n",
    "            \n",
    "            print(f\"{len(list_games)} games to process.\")\n",
    "            check_duplicates(list_games)\n",
    "    \n",
    "            for f in list_games:\n",
    "                home, away, outcome = process_one_game(f)\n",
    "                game = f\"{home}_{away}\"\n",
    "                if game not in results[comp]:\n",
    "                    results[comp][game] = dict()\n",
    "                results[comp][game][s-offset] = outcome"
   ]
  },
  {
   "cell_type": "markdown",
   "id": "76a5cbef-bbae-4a2e-b379-ca3848ac8b98",
   "metadata": {},
   "source": [
    "## Analyse changes"
   ]
  },
  {
   "cell_type": "code",
   "execution_count": 54,
   "id": "57acf886-71f9-4e4b-b363-664fd2164343",
   "metadata": {},
   "outputs": [
    {
     "name": "stdout",
     "output_type": "stream",
     "text": [
      "\n",
      "Comparing the 2022-23 season of SuperRugbyPacific with the previous season\n",
      "36 games are exact repeats; 12 of those have a different outcome: 33.33%\n",
      "48 games are flipped; 16 of those have a different outcome: 33.33%\n",
      "Overall: 33.33% are different (28 out of 84)\n",
      "\n",
      "Comparing the 2023-24 season of SuperRugbyPacific with the previous season\n",
      "52 games are exact repeats; 18 of those have a different outcome: 34.62%\n",
      "32 games are flipped; 15 of those have a different outcome: 46.88%\n",
      "Overall: 39.29% are different (33 out of 84)\n",
      "\n",
      "Comparing the 2024-25 season of SuperRugbyPacific with the previous season\n",
      "16 games are exact repeats; 10 of those have a different outcome: 62.5%\n",
      "9 games are flipped; 7 of those have a different outcome: 77.78%\n",
      "Overall: 68.0% are different (17 out of 25)\n",
      "\n",
      "Comparing the 2022-23 season of Top14 with the previous season\n",
      "156 games are exact repeats; 55 of those have a different outcome: 35.26%\n",
      "Overall: 35.26% are different (55 out of 156)\n",
      "\n",
      "Comparing the 2023-24 season of Top14 with the previous season\n",
      "156 games are exact repeats; 49 of those have a different outcome: 31.41%\n",
      "Overall: 31.41% are different (49 out of 156)\n",
      "\n",
      "Comparing the 2024-25 season of Top14 with the previous season\n",
      "90 games are exact repeats; 32 of those have a different outcome: 35.56%\n",
      "Overall: 35.56% are different (32 out of 90)\n",
      "\n",
      "Comparing the 2022-23 season of URC with the previous season\n",
      "48 games are exact repeats; 15 of those have a different outcome: 31.25%\n",
      "96 games are flipped; 39 of those have a different outcome: 40.62%\n",
      "Overall: 37.5% are different (54 out of 144)\n",
      "\n",
      "Comparing the 2023-24 season of URC with the previous season\n",
      "90 games are exact repeats; 31 of those have a different outcome: 34.44%\n",
      "54 games are flipped; 18 of those have a different outcome: 33.33%\n",
      "Overall: 34.03% are different (49 out of 144)\n",
      "\n",
      "Comparing the 2024-25 season of URC with the previous season\n",
      "29 games are exact repeats; 8 of those have a different outcome: 27.59%\n",
      "48 games are flipped; 22 of those have a different outcome: 45.83%\n",
      "Overall: 38.96% are different (30 out of 77)\n"
     ]
    }
   ],
   "source": [
    "for comp in comps:\n",
    "    for s in seasons:\n",
    "        season = f\"20{s-1}-{s}\"\n",
    "        print(f\"\\nComparing the {season} season of {comp} with the previous season\")\n",
    "\n",
    "        same_game = 0\n",
    "        flipped_game = 0\n",
    "        same_game_different_outcome = 0\n",
    "        flipped_game_different_outcome = 0\n",
    "\n",
    "        for game in results[comp]:\n",
    "            if s not in results[comp][game]:\n",
    "                continue\n",
    "\n",
    "            home = game.split(\"_\")[0]\n",
    "            away = game.split(\"_\")[1]\n",
    "            flip = f\"{away}_{home}\"\n",
    "            \n",
    "            if s-1 in results[comp][game]:\n",
    "                same_game+=1\n",
    "                if results[comp][game][s]!=results[comp][game][s-1]:\n",
    "                    same_game_different_outcome+=1\n",
    "\n",
    "            elif flip in results[comp]:\n",
    "                if s-1 in results[comp][flip]:\n",
    "                    flipped_game+=1\n",
    "                    if results[comp][game][s]==results[comp][flip][s-1]: # here the game is flipped, so a home team means the *other* team won compared to current season\n",
    "                        flipped_game_different_outcome+=1\n",
    "\n",
    "            # else:\n",
    "            #     print(f\"Cannot find {game} or {flip} in {s-1}\")\n",
    "\n",
    "        print(f\"{same_game} games are exact repeats; {same_game_different_outcome} of those have a different outcome: {round(same_game_different_outcome/same_game*100,2)}%\")\n",
    "        if flipped_game>0:\n",
    "            print(f\"{flipped_game} games are flipped; {flipped_game_different_outcome} of those have a different outcome: {round(flipped_game_different_outcome/flipped_game*100,2)}%\")\n",
    "\n",
    "        total = same_game+flipped_game\n",
    "        total_diff = same_game_different_outcome+flipped_game_different_outcome\n",
    "        print(f\"Overall: {round(total_diff/total*100,2)}% are different ({total_diff} out of {total})\")"
   ]
  },
  {
   "cell_type": "code",
   "execution_count": null,
   "id": "c2517438-6bcc-4a3f-8ec2-d066df5962e2",
   "metadata": {},
   "outputs": [],
   "source": []
  },
  {
   "cell_type": "code",
   "execution_count": null,
   "id": "45fdd50a-ceef-4911-96e1-9588d0d4613b",
   "metadata": {},
   "outputs": [],
   "source": []
  },
  {
   "cell_type": "code",
   "execution_count": null,
   "id": "d65adf5c-4d3e-452f-a58e-50a9ec7edff6",
   "metadata": {},
   "outputs": [],
   "source": []
  },
  {
   "cell_type": "code",
   "execution_count": null,
   "id": "21e061ea-d3ae-41f6-ab76-c671862bcdb9",
   "metadata": {},
   "outputs": [],
   "source": []
  }
 ],
 "metadata": {
  "kernelspec": {
   "display_name": "Python [conda env:base] *",
   "language": "python",
   "name": "conda-base-py"
  },
  "language_info": {
   "codemirror_mode": {
    "name": "ipython",
    "version": 3
   },
   "file_extension": ".py",
   "mimetype": "text/x-python",
   "name": "python",
   "nbconvert_exporter": "python",
   "pygments_lexer": "ipython3",
   "version": "3.12.7"
  }
 },
 "nbformat": 4,
 "nbformat_minor": 5
}
